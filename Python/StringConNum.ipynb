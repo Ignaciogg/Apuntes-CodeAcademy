{
 "cells": [
  {
   "cell_type": "code",
   "execution_count": 2,
   "id": "57cd517c-b4ba-41d0-9029-f9e6be74cd41",
   "metadata": {},
   "outputs": [
    {
     "name": "stdout",
     "output_type": "stream",
     "text": [
      "The product was 10.0\n"
     ]
    }
   ],
   "source": [
    "float_1 = 0.25\n",
    "float_2 = 40.0\n",
    "\n",
    "product = float(float_1) * float(float_2)\n",
    "\n",
    "big_string = \"The product was \" + str(product)\n",
    "print (big_string)"
   ]
  },
  {
   "cell_type": "code",
   "execution_count": null,
   "id": "c3386bf5-2a7d-45a2-bb12-dfa08f65cdec",
   "metadata": {},
   "outputs": [],
   "source": []
  }
 ],
 "metadata": {
  "kernelspec": {
   "display_name": "Python 3",
   "language": "python",
   "name": "python3"
  },
  "language_info": {
   "codemirror_mode": {
    "name": "ipython",
    "version": 3
   },
   "file_extension": ".py",
   "mimetype": "text/x-python",
   "name": "python",
   "nbconvert_exporter": "python",
   "pygments_lexer": "ipython3",
   "version": "3.8.8"
  }
 },
 "nbformat": 4,
 "nbformat_minor": 5
}
