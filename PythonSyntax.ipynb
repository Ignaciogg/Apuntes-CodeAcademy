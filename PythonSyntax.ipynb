{
 "cells": [
  {
   "cell_type": "code",
   "execution_count": 2,
   "id": "694b9251-4110-459b-9ffb-d69e435befbc",
   "metadata": {},
   "outputs": [
    {
     "name": "stdout",
     "output_type": "stream",
     "text": [
      "I got 165 points!\n"
     ]
    }
   ],
   "source": [
    "skill_completed = \"Python Syntax\"\n",
    "\n",
    "exercises_completed = 13\n",
    "#The amount of points for each exercise may change, because points don't exist yet\n",
    "points_per_exercise = 5\n",
    "\n",
    "point_total = 100\n",
    "\n",
    "point_total += exercises_completed * points_per_exercise\n",
    "\n",
    "print (\"I got \" + str(point_total) + \" points!\")"
   ]
  },
  {
   "cell_type": "code",
   "execution_count": null,
   "id": "adcd7d83-916d-452f-b756-28c3c8edd2a8",
   "metadata": {},
   "outputs": [],
   "source": []
  }
 ],
 "metadata": {
  "kernelspec": {
   "display_name": "Python 3",
   "language": "python",
   "name": "python3"
  },
  "language_info": {
   "codemirror_mode": {
    "name": "ipython",
    "version": 3
   },
   "file_extension": ".py",
   "mimetype": "text/x-python",
   "name": "python",
   "nbconvert_exporter": "python",
   "pygments_lexer": "ipython3",
   "version": "3.8.8"
  }
 },
 "nbformat": 4,
 "nbformat_minor": 5
}
